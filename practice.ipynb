{
 "metadata": {
  "language_info": {
   "codemirror_mode": {
    "name": "ipython",
    "version": 3
   },
   "file_extension": ".py",
   "mimetype": "text/x-python",
   "name": "python",
   "nbconvert_exporter": "python",
   "pygments_lexer": "ipython3",
   "version": "3.9.4"
  },
  "orig_nbformat": 2,
  "kernelspec": {
   "name": "python394jvsc74a57bd0a2a201af368b0f33180fa9f2d86d399e1f7bd8dc04ffb6286b00a8cb4eb88051",
   "display_name": "Python 3.9.4 64-bit"
  },
  "metadata": {
   "interpreter": {
    "hash": "a2a201af368b0f33180fa9f2d86d399e1f7bd8dc04ffb6286b00a8cb4eb88051"
   }
  }
 },
 "nbformat": 4,
 "nbformat_minor": 2,
 "cells": [
  {
   "cell_type": "code",
   "execution_count": 10,
   "metadata": {},
   "outputs": [
    {
     "output_type": "stream",
     "name": "stdout",
     "text": [
      "['apple', 'pear', 'longan', 'apricot', 'durian']\n"
     ]
    }
   ],
   "source": [
    "fruit_basket = ['apple','pomegranate','apricot','blueberries']\n",
    "fruit_basket[1] = 'pear'\n",
    "fruit_basket.append('durian')\n",
    "fruit_basket.insert(2,'longan')\n",
    "fruit_basket.remove('blueberries')\n",
    "print(fruit_basket)\n",
    "\n",
    "\n"
   ]
  },
  {
   "cell_type": "code",
   "execution_count": 11,
   "metadata": {},
   "outputs": [
    {
     "output_type": "stream",
     "name": "stdout",
     "text": [
      "[0, 2, 4, 6, 8, 10]\n"
     ]
    }
   ],
   "source": [
    "evens = []\n",
    "for num in range(0,11):\n",
    "    if num % 2 == 0:\n",
    "        evens.append(num)\n",
    "print(evens)"
   ]
  },
  {
   "cell_type": "code",
   "execution_count": 12,
   "metadata": {},
   "outputs": [
    {
     "output_type": "stream",
     "name": "stdout",
     "text": [
      "Python Data Science Handbook\n1491912057\n2016\n54.0\nHello World! Computer Programming for Kids and Other Beginners\n161729702X\n2019\n39.99\nKnowledge is Beautiful\n9780007427925\n2013\n33.99\n"
     ]
    }
   ],
   "source": [
    "data_books = [\n",
    "    ['title','ISBN-10','publishedYear','price'],\n",
    "    ['Python Data Science Handbook','1491912057',2016,54.00],\n",
    "    ['Hello World! Computer Programming for Kids and Other Beginners','161729702X',2019,39.99],\n",
    "    ['Knowledge is Beautiful','9780007427925',2013,33.99]\n",
    "]\n",
    "\n",
    "for book in data_books:\n",
    "    if book[0] != 'title':\n",
    "        for detail in book:\n",
    "            print(detail)"
   ]
  },
  {
   "cell_type": "code",
   "execution_count": 13,
   "metadata": {},
   "outputs": [
    {
     "output_type": "stream",
     "name": "stdout",
     "text": [
      "title: Python Data Science Handbook\nISBN-10: 1491912057\npublishedYear: 2016\nprice: 54.0\n----\ntitle: Hello World! Computer Programming for Kids and Other Beginners\nISBN-10: 161729702X\npublishedYear: 2019\nprice: 39.99\n----\ntitle: Knowledge is Beautiful\nISBN-10: 9780007427925\npublishedYear: 2013\nprice: 33.99\n----\n"
     ]
    }
   ],
   "source": [
    "headers = data_books[0]\n",
    "for book in data_books:\n",
    "    if book[0] != 'title':\n",
    "        for count, detail in enumerate(book):\n",
    "            print(f'{headers[count]}: {detail}')\n",
    "        print ('----')"
   ]
  },
  {
   "cell_type": "code",
   "execution_count": 19,
   "metadata": {},
   "outputs": [
    {
     "output_type": "stream",
     "name": "stdout",
     "text": [
      "['1', '2', '3', '4', '5', '6', '7', '8', '9']\n['3', '6', '9']\n"
     ]
    }
   ],
   "source": [
    "# given list of numbers from user input, return those divisible by 3\n",
    "numbers = input('Enter a list of numbers separated by , ')\n",
    "listNumbers = numbers.split(',')\n",
    "result = []\n",
    "for i in range(0,len(listNumbers)):\n",
    "    if int(listNumbers[i])%3==0:\n",
    "        result.append(listNumbers[i])\n",
    "print(result)"
   ]
  },
  {
   "cell_type": "code",
   "execution_count": null,
   "metadata": {},
   "outputs": [],
   "source": []
  }
 ]
}