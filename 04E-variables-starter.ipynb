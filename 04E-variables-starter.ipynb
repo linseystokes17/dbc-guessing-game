{
    "metadata": {
        "kernelspec": {
            "name": "python394jvsc74a57bd0a2a201af368b0f33180fa9f2d86d399e1f7bd8dc04ffb6286b00a8cb4eb88051",
            "display_name": "Python 3.9.4 64-bit"
        },
        "language_info": {
            "name": "python",
            "version": "3.9.4",
            "mimetype": "text/x-python",
            "codemirror_mode": {
                "name": "ipython",
                "version": 3
            },
            "pygments_lexer": "ipython3",
            "nbconvert_exporter": "python",
            "file_extension": ".py"
        },
        "metadata": {
            "interpreter": {
                "hash": "a2a201af368b0f33180fa9f2d86d399e1f7bd8dc04ffb6286b00a8cb4eb88051"
            }
        }
    },
    "nbformat_minor": 2,
    "nbformat": 4,
    "cells": [
        {
            "cell_type": "markdown",
            "source": [
                "# Python Basics - Variables - Exercise\n",
                "In the Variables lesson, we covered the different types of variables available in Python. In this exercise, we want to see your understanding of variables. We have provided some questions and guidance. Enter the code in the code cell below the question.\n",
                "## Exercise"
            ],
            "metadata": {
                "azdata_cell_guid": "894c32a1-1222-45fa-92c3-ac15753238ec"
            }
        },
        {
            "cell_type": "markdown",
            "source": [
                "1. Create a variable named `onomatopoeia` and set its value to 'pop'.  Print the type for `onomatopoeia`."
            ],
            "metadata": {
                "azdata_cell_guid": "67c3693b-d3ce-423a-b463-ec23f3675d45"
            }
        },
        {
            "cell_type": "code",
            "source": [
                "onomatopeia = 'pop'\n",
                "print(type(onomatopeia))"
            ],
            "metadata": {
                "azdata_cell_guid": "d175491a-eb0c-473a-8b90-1edeef1b4c24"
            },
            "outputs": [
                {
                    "output_type": "stream",
                    "name": "stdout",
                    "text": [
                        "<class 'str'>\n"
                    ]
                }
            ],
            "execution_count": 1
        },
        {
            "cell_type": "markdown",
            "source": [
                "2. Create a variable named `lyrics` and set its value to:\r\n",
                "\r\n",
                "```\r\n",
                "Katie Casey was baseball mad,\r\n",
                "Had the fever and had it bad.\r\n",
                "Just to root for the home town crew,\r\n",
                "Ev'ry sou\r\n",
                "Katie blew.\r\n",
                "On a Saturday her young beau\r\n",
                "Called to see if she'd like to go\r\n",
                "To see a show, but Miss Kate said \"No,\r\n",
                "I'll tell you what you can do:\"\r\n",
                "\r\n",
                "```\r\n",
                "Source: https://en.wikipedia.org/wiki/Take_Me_Out_to_the_Ball_Game - lyrics originally from 1908 Tin Pan Alley"
            ],
            "metadata": {
                "azdata_cell_guid": "141170c0-959b-42ae-88c8-8b36baf83213"
            }
        },
        {
            "cell_type": "code",
            "source": [
                "lyrics = \"\"\"Katie Casey was baseball mad,\n",
                "Had the fever and had it bad.\n",
                "Just to root for the home town crew,\n",
                "Ev'ry sou\n",
                "Katie blew.\n",
                "On a Saturday her young beau\n",
                "Called to see if she'd like to go\n",
                "To see a show, but Miss Kate said \"No,\n",
                "I'll tell you what you can do:\\\"\"\"\"\n",
                "print(lyrics)"
            ],
            "metadata": {
                "azdata_cell_guid": "cecc752f-a069-4c8b-9edc-83086ef5aa62"
            },
            "outputs": [
                {
                    "output_type": "stream",
                    "name": "stdout",
                    "text": [
                        "Katie Casey was baseball mad,\nHad the fever and had it bad.\nJust to root for the home town crew,\nEv'ry sou\nKatie blew.\nOn a Saturday her young beau\nCalled to see if she'd like to go\nTo see a show, but Miss Kate said \"No,\nI'll tell you what you can do:\"\n"
                    ]
                }
            ],
            "execution_count": 4
        },
        {
            "cell_type": "markdown",
            "source": [
                "3. Create a variable named `gpa` for a grade point average and set it to 3.75.  Print out the variable.  Then print out the variable's type."
            ],
            "metadata": {
                "azdata_cell_guid": "5f14d81a-a7b1-4d6d-be5b-a812df9e94aa"
            }
        },
        {
            "cell_type": "code",
            "source": [
                "gpa = 3.75\n",
                "print(gpa, type(gpa))"
            ],
            "metadata": {
                "azdata_cell_guid": "53338238-c18a-4094-a858-9196259892c1"
            },
            "outputs": [
                {
                    "output_type": "stream",
                    "name": "stdout",
                    "text": [
                        "3.75 <class 'float'>\n"
                    ]
                }
            ],
            "execution_count": 5
        },
        {
            "cell_type": "markdown",
            "source": [
                "4. Create a variable called `empty_var` and set it to the Python equivalent for null.  Print out the variable.  Then print out the variable's type."
            ],
            "metadata": {
                "azdata_cell_guid": "c13249c9-25ca-402a-b363-1131ea968537"
            }
        },
        {
            "cell_type": "code",
            "source": [
                "empty_var = None\n",
                "print(empty_var, type(empty_var))"
            ],
            "metadata": {
                "azdata_cell_guid": "9fdcebab-e125-4e3a-b54c-ced36e8e71ee"
            },
            "outputs": [
                {
                    "output_type": "stream",
                    "name": "stdout",
                    "text": [
                        "None <class 'NoneType'>\n"
                    ]
                }
            ],
            "execution_count": 6
        },
        {
            "cell_type": "markdown",
            "source": [
                "5. Create a variable to store 8<sup>2</sup>. Print the variable."
            ],
            "metadata": {
                "azdata_cell_guid": "7628a504-eac5-4533-a9d1-f1f4be7afe1d"
            }
        },
        {
            "cell_type": "code",
            "source": [
                "power = 8**2\n",
                "print(power)"
            ],
            "metadata": {
                "azdata_cell_guid": "7a8f97b9-cd9c-4d03-bbc5-42590af4d0af"
            },
            "outputs": [
                {
                    "output_type": "stream",
                    "name": "stdout",
                    "text": [
                        "64\n"
                    ]
                }
            ],
            "execution_count": 8
        },
        {
            "cell_type": "markdown",
            "source": [
                "6\\. Create a variable to store the following expression: (52 - 52) + (64 / 8) + the remainder of 42/8. Print the final result."
            ],
            "metadata": {
                "azdata_cell_guid": "96699102-fb13-4653-b5ab-ab4426724369"
            }
        },
        {
            "cell_type": "code",
            "source": [
                "math = (52-52)+(64/8)+(42%8)\n",
                "print(math)"
            ],
            "metadata": {
                "azdata_cell_guid": "0565147e-81de-4067-8084-156955d6df74"
            },
            "outputs": [
                {
                    "output_type": "stream",
                    "name": "stdout",
                    "text": [
                        "10.0\n"
                    ]
                }
            ],
            "execution_count": 10
        },
        {
            "cell_type": "markdown",
            "source": [
                "7\\. Create a variable named `true` and set it to the boolean value for true.  Create a second variable named `isTrue` and set it to check if `true is not False`.  Print `isTrue`"
            ],
            "metadata": {
                "azdata_cell_guid": "4c646223-07f3-48af-8c85-4127a71b23c0"
            }
        },
        {
            "cell_type": "code",
            "source": [
                "var = True\n",
                "isTrue = var is not False\n",
                "print(isTrue)\n"
            ],
            "metadata": {
                "azdata_cell_guid": "146c3f8a-3359-4ef8-b67a-0ff8a5ace492"
            },
            "outputs": [
                {
                    "output_type": "stream",
                    "name": "stdout",
                    "text": [
                        "True\n"
                    ]
                }
            ],
            "execution_count": 13
        },
        {
            "cell_type": "markdown",
            "source": [
                "8. Create a variable named `weird_word` and set its value to 'Weird'.  Create a second variable to check whether `weird_word` matches 'weird'.  Print out the second variable.\r\n",
                "\r\n",
                "Hint: Use the `==` operator to compare the two strings for equality."
            ],
            "metadata": {
                "azdata_cell_guid": "8b7d8660-4901-4d47-a2ac-6cf7f2855a68"
            }
        },
        {
            "cell_type": "code",
            "source": [
                "weird_word = 'Weird'\n",
                "check_weird = 'weird' == weird_word\n",
                "print(check_weird)"
            ],
            "metadata": {
                "azdata_cell_guid": "1263620c-0c9c-4b0c-9f80-076e082854dd",
                "tags": []
            },
            "outputs": [
                {
                    "output_type": "stream",
                    "name": "stdout",
                    "text": [
                        "False\n"
                    ]
                }
            ],
            "execution_count": 15
        },
        {
            "cell_type": "markdown",
            "source": [
                "9. Create a variable and set it to `false`.  What error occurs?"
            ],
            "metadata": {
                "azdata_cell_guid": "066cc84e-8d01-4578-9ab5-e3e040a34c7b"
            }
        },
        {
            "cell_type": "code",
            "source": [
                "var = false\n",
                "print(var)"
            ],
            "metadata": {
                "azdata_cell_guid": "cc07e37c-992d-4a96-b9e3-5af7ff7e0be3"
            },
            "outputs": [
                {
                    "output_type": "error",
                    "ename": "NameError",
                    "evalue": "name 'false' is not defined",
                    "traceback": [
                        "\u001b[1;31m---------------------------------------------------------------------------\u001b[0m",
                        "\u001b[1;31mNameError\u001b[0m                                 Traceback (most recent call last)",
                        "\u001b[1;32m<ipython-input-18-797537b64c16>\u001b[0m in \u001b[0;36m<module>\u001b[1;34m\u001b[0m\n\u001b[1;32m----> 1\u001b[1;33m \u001b[0mvar\u001b[0m \u001b[1;33m=\u001b[0m \u001b[0mfalse\u001b[0m\u001b[1;33m\u001b[0m\u001b[1;33m\u001b[0m\u001b[0m\n\u001b[0m\u001b[0;32m      2\u001b[0m \u001b[0mprint\u001b[0m\u001b[1;33m(\u001b[0m\u001b[0mvar\u001b[0m\u001b[1;33m)\u001b[0m\u001b[1;33m\u001b[0m\u001b[1;33m\u001b[0m\u001b[0m\n",
                        "\u001b[1;31mNameError\u001b[0m: name 'false' is not defined"
                    ]
                }
            ],
            "execution_count": 18
        },
        {
            "cell_type": "code",
            "execution_count": null,
            "metadata": {},
            "outputs": [],
            "source": []
        }
    ]
}