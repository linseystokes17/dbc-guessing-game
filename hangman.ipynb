{
 "metadata": {
  "language_info": {
   "codemirror_mode": {
    "name": "ipython",
    "version": 3
   },
   "file_extension": ".py",
   "mimetype": "text/x-python",
   "name": "python",
   "nbconvert_exporter": "python",
   "pygments_lexer": "ipython3",
   "version": "3.9.4"
  },
  "orig_nbformat": 2,
  "kernelspec": {
   "name": "python394jvsc74a57bd0a2a201af368b0f33180fa9f2d86d399e1f7bd8dc04ffb6286b00a8cb4eb88051",
   "display_name": "Python 3.9.4 64-bit"
  },
  "metadata": {
   "interpreter": {
    "hash": "a2a201af368b0f33180fa9f2d86d399e1f7bd8dc04ffb6286b00a8cb4eb88051"
   }
  }
 },
 "nbformat": 4,
 "nbformat_minor": 2,
 "cells": [
  {
   "cell_type": "code",
   "execution_count": 55,
   "metadata": {},
   "outputs": [],
   "source": [
    "# dependencies\n",
    "import os # lets you have operating system tools\n",
    "import random"
   ]
  },
  {
   "cell_type": "code",
   "execution_count": 56,
   "metadata": {},
   "outputs": [],
   "source": [
    "# pseudocode\n",
    "# 0. predefine a collection of words/phrases to guess from - dict\n",
    "# 1. randomly select word (phrase) & show as blank spaces - not punctuation\n",
    "# 2. define number of guesses possible and create counter for guesses\n",
    "# 3. prompt for letter input as guess\n",
    "# 4. check if the letter is in the word\n",
    "# 5. replace the blank space character(s) with the guess\n",
    "# 6. else increment number of wrong guesses\n",
    "# 7. if hangman is complete lose\n",
    "# 8. if word is complete win"
   ]
  },
  {
   "cell_type": "code",
   "execution_count": 57,
   "metadata": {},
   "outputs": [],
   "source": [
    "# define variables\n",
    "phrases = {\n",
    "    1: 'eye of the tiger',\n",
    "    2: 'you\\'re the best, around!',\n",
    "    3: 'carry on my wayward son',\n",
    "    4: 'i wanna know what love is',\n",
    "    5: 'do you believe in life after love',\n",
    "    6: 'take on me, take me on',\n",
    "    7: 'mamma mia, here i go again',\n",
    "}\n",
    "phraseIndex = random.randint(1, len(phrases))\n",
    "phrase = phrases[phraseIndex]\n",
    "guessList = []\n",
    "emptyPhrase = []\n",
    "win = False\n",
    "complete = False\n",
    "numGuesses = 0\n",
    "numWrongGuesses = 0\n",
    "maxGuesses = 9\n",
    "# populate blank phrase array\n",
    "for i in range(0, len(phrase)):\n",
    "    if phrase[i] in '., !\\'':\n",
    "        emptyPhrase.append(phrase[i])\n",
    "    else:\n",
    "        emptyPhrase.append('_')"
   ]
  },
  {
   "cell_type": "code",
   "execution_count": 58,
   "metadata": {
    "tags": []
   },
   "outputs": [
    {
     "output_type": "stream",
     "name": "stdout",
     "text": [
      "___ __ ___ _____ Number of guesses 0. Wrong guesses left 9\n",
      "___ __ ___ _____ Number of guesses 1. Wrong guesses left 8\n",
      "___ __ ___ _____ Number of guesses 2. Wrong guesses left 7\n",
      "___ __ ___ _____ Number of guesses 3. Wrong guesses left 6\n",
      "___ __ ___ _____ Number of guesses 4. Wrong guesses left 5\n",
      "___ __ ___ _____ Number of guesses 5. Wrong guesses left 4\n",
      "e_e __ __e ___e_ Number of guesses 6. Wrong guesses left 4\n",
      "e_e o_ __e ___e_ Number of guesses 7. Wrong guesses left 4\n",
      "e_e of __e ___e_ Number of guesses 8. Wrong guesses left 4\n",
      "e_e of t_e t__e_ Number of guesses 9. Wrong guesses left 4\n",
      "e_e of the t__e_ Number of guesses 10. Wrong guesses left 4\n",
      "eye of the t__e_ Number of guesses 11. Wrong guesses left 4\n",
      "eye of the t_ge_ Number of guesses 12. Wrong guesses left 4\n",
      "eye of the tige_ Number of guesses 13. Wrong guesses left 4\n",
      "You won! The correct phrase was 'eye of the tiger'\n",
      "Number of guesses 14\n"
     ]
    }
   ],
   "source": [
    "# loop while phrase has not been won or hangman isn't complete\n",
    "while(not win or not complete):\n",
    "    print(''.join(emptyPhrase), f'Number of guesses {numGuesses}. Wrong guesses left {maxGuesses-numWrongGuesses}')\n",
    "# prompt for guess and error checking\n",
    "    guess = input('Enter a guess ')\n",
    "    if not guess.isalpha():\n",
    "        guess = input('Guess is not a letter, try again ')\n",
    "    elif guess in guessList:\n",
    "        guess = input('Already guessed that letter, try again ')\n",
    "    else:\n",
    "        guessList.append(guess)\n",
    "    numGuesses+=1\n",
    "# loop through each letter in phrase and check if guess exists\n",
    "    if guess not in phrase:\n",
    "        numWrongGuesses+=1\n",
    "    else:\n",
    "        for i in range(0, len(phrase)):\n",
    "            if guess == phrase[i]:\n",
    "                emptyPhrase[i]=guess\n",
    "# win / loss check\n",
    "    if numWrongGuesses==maxGuesses:\n",
    "        complete = True\n",
    "        print(f'You lost. The correct phrase was \\'{phrase}\\'')\n",
    "        print(f'Number of guesses {numGuesses}')\n",
    "        break\n",
    "    if ''.join(emptyPhrase) == phrase:\n",
    "        win = True\n",
    "        print(f'You won! The correct phrase was \\'{phrase}\\'')\n",
    "        print(f'Number of guesses {numGuesses}')\n",
    "        break"
   ]
  },
  {
   "cell_type": "code",
   "execution_count": 58,
   "metadata": {},
   "outputs": [],
   "source": [
    "\n"
   ]
  }
 ]
}